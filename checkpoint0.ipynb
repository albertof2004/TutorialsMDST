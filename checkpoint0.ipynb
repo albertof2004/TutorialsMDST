{
 "cells": [
  {
   "cell_type": "markdown",
   "id": "31ef4fac",
   "metadata": {
    "colab_type": "text",
    "id": "0a8IYAJUshu1"
   },
   "source": [
    "# Checkpoint 0 "
   ]
  },
  {
   "cell_type": "markdown",
   "id": "4586c986",
   "metadata": {},
   "source": [
    "These exercises are a mix of Python and Pandas practice. Most should be no more than a few lines of code! "
   ]
  },
  {
   "cell_type": "code",
   "execution_count": 2,
   "id": "8cef820d",
   "metadata": {
    "colab": {},
    "colab_type": "code",
    "id": "Jo6wuTgkshu1"
   },
   "outputs": [],
   "source": [
    "# here is a Python list:\n",
    "\n",
    "a = [1, 2, 3, 4, 5, 6]"
   ]
  },
  {
   "cell_type": "code",
   "execution_count": 3,
   "id": "779d96b1",
   "metadata": {},
   "outputs": [
    {
     "name": "stdout",
     "output_type": "stream",
     "text": [
      "[4, 5, 6]\n"
     ]
    }
   ],
   "source": [
    "last_three_elements = a[-3:]\n",
    "print(last_three_elements)"
   ]
  },
  {
   "cell_type": "code",
   "execution_count": 5,
   "id": "b6a54def",
   "metadata": {},
   "outputs": [
    {
     "name": "stdout",
     "output_type": "stream",
     "text": [
      "[1, 2, 3, 4, 5, 6, 7, 8, 9, 10, 11, 12, 13, 14, 15, 16, 17, 18, 19, 20]\n"
     ]
    }
   ],
   "source": [
    "numbers = [i for i in range(1, 21)]\n",
    "print(numbers)"
   ]
  },
  {
   "cell_type": "code",
   "execution_count": 6,
   "id": "487873ac",
   "metadata": {},
   "outputs": [
    {
     "name": "stdout",
     "output_type": "stream",
     "text": [
      "[2, 4, 6, 8, 10, 12, 14, 16, 18, 20, 22, 24, 26, 28, 30, 32, 34, 36, 38, 40, 42, 44, 46, 48, 50, 52, 54, 56, 58, 60, 62, 64, 66, 68, 70, 72, 74, 76, 78, 80, 82, 84, 86, 88, 90, 92, 94, 96, 98, 100]\n"
     ]
    }
   ],
   "source": [
    "even_numbers = [i for i in range(1, 101) if i % 2 == 0]\n",
    "print(even_numbers)"
   ]
  },
  {
   "cell_type": "code",
   "execution_count": 10,
   "id": "3d4bb5dd",
   "metadata": {},
   "outputs": [],
   "source": [
    "def divide_numbers(num1, num2):\n",
    "return num1 / num2"
   ]
  },
  {
   "cell_type": "code",
   "execution_count": 13,
   "id": "b93669fa",
   "metadata": {},
   "outputs": [],
   "source": [
    "# write a function that takes a string as input\n",
    "# and return that string in all caps\n",
    "def capitalized_string (string):\n",
    "    return string.upper()"
   ]
  },
  {
   "cell_type": "code",
   "execution_count": 18,
   "id": "f55df04e",
   "metadata": {},
   "outputs": [
    {
     "name": "stdout",
     "output_type": "stream",
     "text": [
      "1\n",
      "2\n",
      "fizz\n",
      "4\n",
      "buzz\n",
      "fizz\n",
      "7\n",
      "8\n",
      "fizz\n",
      "buzz\n",
      "11\n",
      "fizz\n",
      "13\n",
      "14\n",
      "fizzbuzz\n",
      "16\n",
      "17\n",
      "fizz\n",
      "19\n",
      "buzz\n",
      "fizz\n",
      "22\n",
      "23\n",
      "fizz\n",
      "buzz\n",
      "26\n",
      "fizz\n",
      "28\n",
      "29\n"
     ]
    }
   ],
   "source": [
    "# fizzbuzz\n",
    "# you will need to use both iteration and control flow \n",
    "# go through all numbers from 1 to 30 in order\n",
    "# if the number is a multiple of 3, print fizz\n",
    "# if the number is a multiple of 5, print buzz\n",
    "# if the number is a multiple of 3 and 5, print fizzbuzz and NOTHING ELSE\n",
    "# if the number is neither a multiple of 3 nor a multiple of 5, print the number\n",
    "for i in range(1,30):\n",
    "    if i % 3 == 0 and i % 5 == 0:\n",
    "        print (\"fizzbuzz\")\n",
    "    elif i % 3 == 0:\n",
    "        print (\"fizz\")\n",
    "    elif i % 5 == 0: \n",
    "        print (\"buzz\")\n",
    "    else: \n",
    "        print(i)"
   ]
  },
  {
   "cell_type": "code",
   "execution_count": 25,
   "id": "78aace0b",
   "metadata": {},
   "outputs": [
    {
     "name": "stdout",
     "output_type": "stream",
     "text": [
      "Gyro: $9\n",
      "Burger: $9\n",
      "Greek Salad: $8\n",
      "Philly Steak: $10\n"
     ]
    }
   ],
   "source": [
    "# create a dictionary that reflects the following menu pricing (taken from Ahmo's)\n",
    "# Gyro: $9 \n",
    "# Burger: $9\n",
    "# Greek Salad: $8\n",
    "# Philly Steak: $10\n",
    "\n",
    "menu_pricing = {\n",
    "    \"Gyro\": 9,\n",
    "    \"Burger\": 9,\n",
    "    \"Greek Salad\": 8,\n",
    "    \"Philly Steak\": 10\n",
    "}\n",
    "\n",
    "for item, price in menu_pricing.items():\n",
    "    print(f\"{item}: ${price}\")"
   ]
  },
  {
   "cell_type": "code",
   "execution_count": 28,
   "id": "05b3900d",
   "metadata": {
    "colab": {},
    "colab_type": "code",
    "id": "WzCQ5HOJshvA"
   },
   "outputs": [],
   "source": [
    "# load in the \"starbucks.csv\" dataset\n",
    "# refer to how we read the cereal.csv dataset in the tutorial\n",
    "import pandas as pd\n",
    "file = pd.read_csv(\"../data/starbucks.csv\")"
   ]
  },
  {
   "cell_type": "code",
   "execution_count": 30,
   "id": "68210b5f",
   "metadata": {},
   "outputs": [],
   "source": [
    "# output the calories, sugars, and protein columns only of every 40th row.\n",
    "selected_row = file.iloc[::40, [0, 1, 2]]\n",
    "print(selected_rows)"
   ]
  },
  {
   "cell_type": "code",
   "execution_count": 33,
   "id": "ac0f0c12",
   "metadata": {},
   "outputs": [],
   "source": [
    "# select all rows with more than and including 400 calories\n",
    "selected_rows = file[file[\"calories\"] >= 400]"
   ]
  },
  {
   "cell_type": "code",
   "execution_count": 35,
   "id": "ee8f8241",
   "metadata": {},
   "outputs": [],
   "source": [
    "# select all rows whose vitamin c content is higher than the iron content\n",
    "selected_rows = file[file[\"vitamin c\"] > file[\"iron\"]]"
   ]
  },
  {
   "cell_type": "code",
   "execution_count": 37,
   "id": "d4de48bb",
   "metadata": {},
   "outputs": [],
   "source": [
    "# create a new column containing the caffeine per calories of each drink\n",
    "file[\"caffeine_per_calorie\"] = file[\"caffeine\"] / file[\"calories\"]"
   ]
  },
  {
   "cell_type": "code",
   "execution_count": 36,
   "id": "f99000bd",
   "metadata": {
    "colab": {},
    "colab_type": "code",
    "id": "rIoxaSxHshvB"
   },
   "outputs": [
    {
     "name": "stdout",
     "output_type": "stream",
     "text": [
      "193.87190082644628\n"
     ]
    }
   ],
   "source": [
    "# what is the average calorie across all items?\n",
    "average_calorie = file[\"calories\"].mean()\n",
    "print(average_calorie)"
   ]
  },
  {
   "cell_type": "code",
   "execution_count": 43,
   "id": "d6cbb3ee",
   "metadata": {
    "colab": {},
    "colab_type": "code",
    "id": "ABX7i49FshvD"
   },
   "outputs": [
    {
     "name": "stdout",
     "output_type": "stream",
     "text": [
      "9\n"
     ]
    }
   ],
   "source": [
    "# how many different categories of beverages are there?\n",
    "num_categories = file[\"beverage_category\"].nunique()\n",
    "print(num_categories)"
   ]
  },
  {
   "cell_type": "code",
   "execution_count": 47,
   "id": "75d74bec",
   "metadata": {
    "colab": {},
    "colab_type": "code",
    "id": "P9QatZAzshvE"
   },
   "outputs": [
    {
     "name": "stdout",
     "output_type": "stream",
     "text": [
      "beverage_category\n",
      "classic espresso drinks             140.172414\n",
      "coffee                                4.250000\n",
      "frappuccino blended coffee          276.944444\n",
      "frappuccino blended crme            233.076923\n",
      "frappuccino light blended coffee    162.500000\n",
      "shaken iced beverages               114.444444\n",
      "signature espresso drinks           250.000000\n",
      "smoothies                           282.222222\n",
      "tazo tea drinks                     177.307692\n",
      "Name: calories, dtype: float64\n"
     ]
    }
   ],
   "source": [
    "# what is the average # calories for each beverage category?\n",
    "average_calories_per_category = file.groupby(\"beverage_category\")[\"calories\"].mean()\n",
    "print(average_calories_per_category)"
   ]
  },
  {
   "cell_type": "code",
   "execution_count": null,
   "id": "61dc9a9d",
   "metadata": {},
   "outputs": [],
   "source": []
  },
  {
   "cell_type": "code",
   "execution_count": null,
   "id": "8bb67903",
   "metadata": {},
   "outputs": [],
   "source": []
  }
 ],
 "metadata": {
  "kernelspec": {
   "display_name": "Python 3 (ipykernel)",
   "language": "python",
   "name": "python3"
  },
  "language_info": {
   "codemirror_mode": {
    "name": "ipython",
    "version": 3
   },
   "file_extension": ".py",
   "mimetype": "text/x-python",
   "name": "python",
   "nbconvert_exporter": "python",
   "pygments_lexer": "ipython3",
   "version": "3.9.13"
  },
  "vscode": {
   "interpreter": {
    "hash": "6cf8df3ff69f85f626faf55c10df6fe2cb9d1236b4dc73844ee4dc01369c2c99"
   }
  }
 },
 "nbformat": 4,
 "nbformat_minor": 5
}
